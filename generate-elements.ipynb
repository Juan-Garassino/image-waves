{
 "cells": [
  {
   "cell_type": "code",
   "execution_count": 2,
   "metadata": {
    "id": "x6zNvS83DKvN"
   },
   "outputs": [],
   "source": [
    "import numpy as np\n",
    "import pandas as pd\n",
    "import matplotlib.pyplot as plt\n",
    "import random\n",
    "import time\n",
    "\n",
    "STYLE = \"#ffffff\"\n",
    "\n",
    "%load_ext autoreload\n",
    "%autoreload 2"
   ]
  },
  {
   "cell_type": "code",
   "execution_count": 3,
   "metadata": {},
   "outputs": [
    {
     "ename": "NameError",
     "evalue": "name 'add_plane' is not defined",
     "output_type": "error",
     "traceback": [
      "\u001b[0;31m---------------------------------------------------------------------------\u001b[0m",
      "\u001b[0;31mNameError\u001b[0m                                 Traceback (most recent call last)",
      "Input \u001b[0;32mIn [3]\u001b[0m, in \u001b[0;36m<cell line: 5>\u001b[0;34m()\u001b[0m\n\u001b[1;32m      1\u001b[0m \u001b[38;5;28;01mfrom\u001b[39;00m \u001b[38;5;21;01mSculptor\u001b[39;00m \u001b[38;5;28;01mimport\u001b[39;00m Sculptor\n\u001b[1;32m      3\u001b[0m sculptor \u001b[38;5;241m=\u001b[39m Sculptor(void_dim\u001b[38;5;241m=\u001b[39m\u001b[38;5;241m28\u001b[39m, n_planes\u001b[38;5;241m=\u001b[39m\u001b[38;5;241m37\u001b[39m, element_min_side\u001b[38;5;241m=\u001b[39m\u001b[38;5;241m2\u001b[39m, element_max_side\u001b[38;5;241m=\u001b[39m\u001b[38;5;241m13\u001b[39m, step\u001b[38;5;241m=\u001b[39m\u001b[38;5;241m1\u001b[39m, verbose\u001b[38;5;241m=\u001b[39m\u001b[38;5;28;01mFalse\u001b[39;00m)\n\u001b[0;32m----> 5\u001b[0m sculpture \u001b[38;5;241m=\u001b[39m \u001b[43msculptor\u001b[49m\u001b[38;5;241;43m.\u001b[39;49m\u001b[43mgenerative_sculpt\u001b[49m\u001b[43m(\u001b[49m\u001b[43m)\u001b[49m\n",
      "File \u001b[0;32m~/code/Juan-Garassino/image-waves/Sculptor.py:65\u001b[0m, in \u001b[0;36mSculptor.generative_sculpt\u001b[0;34m(self)\u001b[0m\n\u001b[1;32m     63\u001b[0m     time\u001b[38;5;241m.\u001b[39msleep(\u001b[38;5;241m0.5\u001b[39m)\n\u001b[1;32m     64\u001b[0m     axis_selection \u001b[38;5;241m=\u001b[39m np\u001b[38;5;241m.\u001b[39mrandom\u001b[38;5;241m.\u001b[39mrandint(low\u001b[38;5;241m=\u001b[39m\u001b[38;5;241m0\u001b[39m, high\u001b[38;5;241m=\u001b[39m\u001b[38;5;241m3\u001b[39m)\n\u001b[0;32m---> 65\u001b[0m     \u001b[43madd_plane\u001b[49m(\u001b[38;5;28mself\u001b[39m\u001b[38;5;241m.\u001b[39mvoid, axis_selection, \u001b[38;5;28mself\u001b[39m\u001b[38;5;241m.\u001b[39melement_min_side, \u001b[38;5;28mself\u001b[39m\u001b[38;5;241m.\u001b[39melement_max_side, \u001b[38;5;28mself\u001b[39m\u001b[38;5;241m.\u001b[39mstep, \u001b[38;5;28mself\u001b[39m\u001b[38;5;241m.\u001b[39mverbose)\n\u001b[1;32m     67\u001b[0m \u001b[38;5;28;01mreturn\u001b[39;00m \u001b[38;5;28mself\u001b[39m\u001b[38;5;241m.\u001b[39mvoid\n",
      "\u001b[0;31mNameError\u001b[0m: name 'add_plane' is not defined"
     ]
    }
   ],
   "source": [
    "from Sculptor import Sculptor\n",
    "\n",
    "sculptor = Sculptor(void_dim=28, n_planes=37, element_min_side=2, element_max_side=13, step=1, verbose=False)\n",
    "\n",
    "sculpture = sculptor.generative_sculpt()"
   ]
  },
  {
   "cell_type": "code",
   "execution_count": 6,
   "metadata": {},
   "outputs": [],
   "source": [
    "class Sculptor:\n",
    "    def __init__(self,void_dim=12, n_planes=5, element_min_side=3, element_max_side=9, step=1, verbose=True):\n",
    "        self.void_dim = void_dim\n",
    "        self.void = np.zeros((self.void_dim, self.void_dim, self.void_dim))\n",
    "        self.element_min_side = element_min_side\n",
    "        self.element_max_side = element_max_side\n",
    "        self.step = step\n",
    "        self.verbose = verbose\n",
    "        self.n_planes = n_planes\n",
    "        \n",
    "\n",
    "    def add_plane(self, void, axis_selection, element_min_side, element_max_side, sstep, verbose): # element sizes\n",
    "\n",
    "        section = np.random.randint(low=0-1, high=void[0].shape[0])\n",
    "        # selection of the axis to work on\n",
    "\n",
    "        if axis_selection == 0:\n",
    "            working_plane = void[section,:,:]\n",
    "        elif axis_selection == 1:\n",
    "            working_plane = void[:,section,:]  \n",
    "        elif axis_selection == 2:\n",
    "            working_plane = void[:,:,section]\n",
    "        else:\n",
    "            print(\"error\")\n",
    "        # axis selection\n",
    "\n",
    "        if verbose == True:\n",
    "            print(working_plane)\n",
    "            print(\"###############################################################\")\n",
    "\n",
    "        #Variables\n",
    "\n",
    "        element = np.ones((random.randrange(element_min_side, element_max_side, step), random.randrange(element_min_side, element_max_side, step)))\n",
    "        # creates the element to be inserted\n",
    "        delta = np.array(working_plane.shape) - np.array(element.shape) \n",
    "        # finds the delta between the size of the void and the size of the element\n",
    "        top_left_corner = (coor_i, coor_j) = (np.random.randint(low=0, high=delta[0]) , np.random.randint(low=0, high=delta[1]))\n",
    "        # finds the coordinates of the top left corner\n",
    "        top_left_corner = np.array(top_left_corner)\n",
    "        # converts the result in an array\n",
    "        bottom_right_corner = np.array(top_left_corner) + np.array(element.shape) #- np.array([1,1]))\n",
    "        # finds the coordinates of the bottom right corner\n",
    "        working_plane[top_left_corner[0]:bottom_right_corner[0] , top_left_corner[1]:bottom_right_corner[1]] = element\n",
    "        # makes the slides using the coordinates equal to the element\n",
    "\n",
    "        if verbose == True:\n",
    "            print(f\"void shape is: {np.array(void[0].shape)}\")\n",
    "            print(f\"element shape is : {np.array(element.shape)}\")\n",
    "            print(f\"the axis selection is: {axis_selection}\")\n",
    "            print(f\"delta is: {delta}\")\n",
    "            print(f\"section is: {section}\")\n",
    "            print(f\"top left corner is: {top_left_corner}\")\n",
    "            print(f\"bottom right corner is: {bottom_right_corner}\")\n",
    "            print(f\"slices are: {top_left_corner[0]}:{bottom_right_corner[0]} and {top_left_corner[1]}:{bottom_right_corner[1]}\")\n",
    "            print(\"###############################################################\")\n",
    "\n",
    "    def generative_sculpt(self):\n",
    "\n",
    "        for i in range(self.n_planes):\n",
    "            time.sleep(0.5)\n",
    "            axis_selection = np.random.randint(low=0, high=3)\n",
    "            add_plane(self.void, axis_selection, self.element_min_side, self.element_max_side, self.step, self.verbose)\n",
    "\n",
    "        return self.void"
   ]
  },
  {
   "cell_type": "code",
   "execution_count": 7,
   "metadata": {},
   "outputs": [
    {
     "ename": "NameError",
     "evalue": "name 'add_plane' is not defined",
     "output_type": "error",
     "traceback": [
      "\u001b[0;31m---------------------------------------------------------------------------\u001b[0m",
      "\u001b[0;31mNameError\u001b[0m                                 Traceback (most recent call last)",
      "Input \u001b[0;32mIn [7]\u001b[0m, in \u001b[0;36m<cell line: 3>\u001b[0;34m()\u001b[0m\n\u001b[1;32m      1\u001b[0m sculptor \u001b[38;5;241m=\u001b[39m Sculptor(void_dim\u001b[38;5;241m=\u001b[39m\u001b[38;5;241m28\u001b[39m, n_planes\u001b[38;5;241m=\u001b[39m\u001b[38;5;241m37\u001b[39m, element_min_side\u001b[38;5;241m=\u001b[39m\u001b[38;5;241m2\u001b[39m, element_max_side\u001b[38;5;241m=\u001b[39m\u001b[38;5;241m13\u001b[39m, step\u001b[38;5;241m=\u001b[39m\u001b[38;5;241m1\u001b[39m, verbose\u001b[38;5;241m=\u001b[39m\u001b[38;5;28;01mFalse\u001b[39;00m)\n\u001b[0;32m----> 3\u001b[0m sculpture \u001b[38;5;241m=\u001b[39m \u001b[43msculptor\u001b[49m\u001b[38;5;241;43m.\u001b[39;49m\u001b[43mgenerative_sculpt\u001b[49m\u001b[43m(\u001b[49m\u001b[43m)\u001b[49m\n",
      "Input \u001b[0;32mIn [6]\u001b[0m, in \u001b[0;36mSculptor.generative_sculpt\u001b[0;34m(self)\u001b[0m\n\u001b[1;32m     60\u001b[0m     time\u001b[38;5;241m.\u001b[39msleep(\u001b[38;5;241m0.5\u001b[39m)\n\u001b[1;32m     61\u001b[0m     axis_selection \u001b[38;5;241m=\u001b[39m np\u001b[38;5;241m.\u001b[39mrandom\u001b[38;5;241m.\u001b[39mrandint(low\u001b[38;5;241m=\u001b[39m\u001b[38;5;241m0\u001b[39m, high\u001b[38;5;241m=\u001b[39m\u001b[38;5;241m3\u001b[39m)\n\u001b[0;32m---> 62\u001b[0m     \u001b[43madd_plane\u001b[49m(\u001b[38;5;28mself\u001b[39m\u001b[38;5;241m.\u001b[39mvoid, axis_selection, \u001b[38;5;28mself\u001b[39m\u001b[38;5;241m.\u001b[39melement_min_side, \u001b[38;5;28mself\u001b[39m\u001b[38;5;241m.\u001b[39melement_max_side, \u001b[38;5;28mself\u001b[39m\u001b[38;5;241m.\u001b[39mstep, \u001b[38;5;28mself\u001b[39m\u001b[38;5;241m.\u001b[39mverbose)\n\u001b[1;32m     64\u001b[0m \u001b[38;5;28;01mreturn\u001b[39;00m \u001b[38;5;28mself\u001b[39m\u001b[38;5;241m.\u001b[39mvoid\n",
      "\u001b[0;31mNameError\u001b[0m: name 'add_plane' is not defined"
     ]
    }
   ],
   "source": [
    "sculptor = Sculptor(void_dim=28, n_planes=37, element_min_side=2, element_max_side=13, step=1, verbose=False)\n",
    "\n",
    "sculpture = sculptor.generative_sculpt()"
   ]
  },
  {
   "cell_type": "code",
   "execution_count": 8,
   "metadata": {},
   "outputs": [],
   "source": [
    "def add_plane(void, axis_selection, element_min_side=3, element_max_side=9, step=1, verbose=True): # element sizes\n",
    "    \n",
    "    section = np.random.randint(low=0-1, high=void[0].shape[0])\n",
    "    # selection of the axis to work on\n",
    "    \n",
    "    if axis_selection == 0:\n",
    "        working_plane = void[section,:,:]\n",
    "    elif axis_selection == 1:\n",
    "        working_plane = void[:,section,:]  \n",
    "    elif axis_selection == 2:\n",
    "        working_plane = void[:,:,section]\n",
    "    else:\n",
    "        print(\"error\")\n",
    "    # axis selection\n",
    "        \n",
    "    if verbose == True:\n",
    "        print(working_plane)\n",
    "        print(\"###############################################################\")\n",
    "    \n",
    "    #Variables\n",
    "    \n",
    "    element = np.ones((random.randrange(element_min_side, element_max_side, step), random.randrange(element_min_side, element_max_side, step)))\n",
    "    # creates the element to be inserted\n",
    "    delta = np.array(working_plane.shape) - np.array(element.shape) \n",
    "    # finds the delta between the size of the void and the size of the element\n",
    "    top_left_corner = (coor_i, coor_j) = (np.random.randint(low=0, high=delta[0]) , np.random.randint(low=0, high=delta[1]))\n",
    "    # finds the coordinates of the top left corner\n",
    "    top_left_corner = np.array(top_left_corner)\n",
    "    # converts the result in an array\n",
    "    bottom_right_corner = np.array(top_left_corner) + np.array(element.shape) #- np.array([1,1]))\n",
    "    # finds the coordinates of the bottom right corner\n",
    "    working_plane[top_left_corner[0]:bottom_right_corner[0] , top_left_corner[1]:bottom_right_corner[1]] = element\n",
    "    # makes the slides using the coordinates equal to the element\n",
    "    \n",
    "    if verbose == True:\n",
    "        print(f\"void shape is: {np.array(void[0].shape)}\")\n",
    "        print(f\"element shape is : {np.array(element.shape)}\")\n",
    "        print(f\"the axis selection is: {axis_selection}\")\n",
    "        print(f\"delta is: {delta}\")\n",
    "        print(f\"section is: {section}\")\n",
    "        print(f\"top left corner is: {top_left_corner}\")\n",
    "        print(f\"bottom right corner is: {bottom_right_corner}\")\n",
    "        print(f\"slices are: {top_left_corner[0]}:{bottom_right_corner[0]} and {top_left_corner[1]}:{bottom_right_corner[1]}\")\n",
    "        print(\"###############################################################\")\n",
    "\n",
    "def generative_sculpt(void_dim=12, n_planes=25):\n",
    "\n",
    "    void = np.zeros((void_dim, void_dim, void_dim))\n",
    "\n",
    "    for i in range(n_planes):\n",
    "        time.sleep(0)\n",
    "        axis_selection = np.random.randint(low=0, high=3)\n",
    "        add_plane(void, axis_selection, element_min_side=2, element_max_side=24, step=1, verbose=False)\n",
    "    \n",
    "    return void"
   ]
  },
  {
   "cell_type": "code",
   "execution_count": 10,
   "metadata": {},
   "outputs": [
    {
     "ename": "NameError",
     "evalue": "name 'void' is not defined",
     "output_type": "error",
     "traceback": [
      "\u001b[0;31m---------------------------------------------------------------------------\u001b[0m",
      "\u001b[0;31mNameError\u001b[0m                                 Traceback (most recent call last)",
      "Input \u001b[0;32mIn [10]\u001b[0m, in \u001b[0;36m<cell line: 3>\u001b[0;34m()\u001b[0m\n\u001b[1;32m      1\u001b[0m \u001b[38;5;66;03m# sculpture = generative_sculpt(void_dim=29, n_planes=3)\u001b[39;00m\n\u001b[0;32m----> 3\u001b[0m sculpture \u001b[38;5;241m=\u001b[39m \u001b[43mvoid\u001b[49m\n\u001b[1;32m      5\u001b[0m fig, axes \u001b[38;5;241m=\u001b[39m plt\u001b[38;5;241m.\u001b[39msubplots(ncols\u001b[38;5;241m=\u001b[39m\u001b[38;5;241m6\u001b[39m, nrows\u001b[38;5;241m=\u001b[39m\u001b[38;5;241m6\u001b[39m, figsize\u001b[38;5;241m=\u001b[39m(\u001b[38;5;241m25\u001b[39m, \u001b[38;5;241m25\u001b[39m), facecolor \u001b[38;5;241m=\u001b[39m (STYLE))\n\u001b[1;32m      7\u001b[0m axes \u001b[38;5;241m=\u001b[39m axes\u001b[38;5;241m.\u001b[39mravel() \u001b[38;5;66;03m# flats\u001b[39;00m\n",
      "\u001b[0;31mNameError\u001b[0m: name 'void' is not defined"
     ]
    }
   ],
   "source": [
    "# sculpture = generative_sculpt(void_dim=29, n_planes=3)\n",
    "\n",
    "fig, axes = plt.subplots(ncols=6, nrows=6, figsize=(25, 25), facecolor = (STYLE))\n",
    "\n",
    "axes = axes.ravel() # flats\n",
    "\n",
    "for index in range(28):\n",
    "    axes[index].imshow(sculpture[index,:,:], cmap = \"plasma\")"
   ]
  },
  {
   "cell_type": "code",
   "execution_count": null,
   "metadata": {
    "colab": {
     "base_uri": "https://localhost:8080/",
     "height": 592
    },
    "id": "CLgLZDwENzgx",
    "outputId": "b4220beb-c02c-490f-fcd5-c87f878e80de"
   },
   "outputs": [],
   "source": [
    "space = np.array(sculpture.nonzero()) # cordinates of the non zero values\n",
    "\n",
    "space = space.T\n",
    "\n",
    "fig = plt.figure(figsize=(10,10))\n",
    "\n",
    "ax = fig.add_subplot(projection=\"3d\")\n",
    "\n",
    "ax.scatter(space[:,0], space[:,1], space[:,2], marker = \"x\", alpha = 0.5, c=space/28)"
   ]
  },
  {
   "cell_type": "code",
   "execution_count": null,
   "metadata": {},
   "outputs": [],
   "source": []
  }
 ],
 "metadata": {
  "accelerator": "GPU",
  "colab": {
   "machine_shape": "hm",
   "name": "Untitled0.ipynb",
   "provenance": []
  },
  "kernelspec": {
   "display_name": "Python 3 (ipykernel)",
   "language": "python",
   "name": "python3"
  },
  "language_info": {
   "codemirror_mode": {
    "name": "ipython",
    "version": 3
   },
   "file_extension": ".py",
   "mimetype": "text/x-python",
   "name": "python",
   "nbconvert_exporter": "python",
   "pygments_lexer": "ipython3",
   "version": "3.8.12"
  }
 },
 "nbformat": 4,
 "nbformat_minor": 4
}
